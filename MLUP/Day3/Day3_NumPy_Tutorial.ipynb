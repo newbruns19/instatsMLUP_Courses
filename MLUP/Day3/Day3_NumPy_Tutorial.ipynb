{
 "cells": [
  {
   "cell_type": "markdown",
   "id": "56f84eea-a70a-4cfb-ad17-5639bea6ad26",
   "metadata": {},
   "source": [
    "# Day 3: Exercises from the course \"Machine Learning using Python (MLUP01)\"\n",
    "\n",
    "**Sessions**: (3) Introduction to Machine Learning\n",
    "\n",
    "**Instructor**: Gabriel Rodrigues Palma\n",
    "\n",
    "**Objective**: This day focuses on the theoretical foundations of machine learning, detailing the application of learning algorithms in preparation for the practical examples in Python"
   ]
  },
  {
   "cell_type": "markdown",
   "id": "dccffcbb-4836-44bb-8966-cf3b1d98ec50",
   "metadata": {},
   "source": [
    "## Importing modules"
   ]
  },
  {
   "cell_type": "code",
   "execution_count": 1,
   "id": "e678adeb-d1d6-47e1-9313-1735233048ba",
   "metadata": {},
   "outputs": [],
   "source": [
    "import numpy as np"
   ]
  },
  {
   "cell_type": "markdown",
   "id": "f6fa29c3-a74a-45bd-aa27-ac6d0f4e3044",
   "metadata": {},
   "source": [
    "## Tutorial for basic NumPy"
   ]
  },
  {
   "cell_type": "markdown",
   "id": "e6ebb8eb-a1f3-488c-855a-e4cc6227f3d4",
   "metadata": {},
   "source": [
    "#### Basic Array Creation\n",
    "Create arrays from your ecological measurements"
   ]
  },
  {
   "cell_type": "code",
   "execution_count": 3,
   "id": "ac322768-d7e6-448e-80b1-2fff12c7be46",
   "metadata": {},
   "outputs": [
    {
     "name": "stdout",
     "output_type": "stream",
     "text": [
      "[18.5 19.2 17.8 20.1 22.3 21.7]\n",
      "Day 1 temperature: 18.5°C\n"
     ]
    }
   ],
   "source": [
    "# Daily temperature readings (°C)\n",
    "temperatures = np.array([18.5, 19.2, 17.8, 20.1, 22.3, 21.7])\n",
    "print(temperatures)\n",
    "# array([18.5, 19.2, 17.8, 20.1, 22.3, 21.7])\n",
    "\n",
    "# Access individual measurements\n",
    "print(f\"Day 1 temperature: {temperatures[0]}°C\")\n",
    "# Day 1 temperature: 18.5°C"
   ]
  },
  {
   "cell_type": "markdown",
   "id": "a6ae4d03-2a99-4bff-9367-f8958d3f6643",
   "metadata": {},
   "source": [
    "#### Multi-dimensional Ecological Data\n",
    "Create species-by-site abundance matrices"
   ]
  },
  {
   "cell_type": "code",
   "execution_count": 4,
   "id": "bfcad1bb-c53a-4821-8e4e-2e78626beb2e",
   "metadata": {},
   "outputs": [
    {
     "name": "stdout",
     "output_type": "stream",
     "text": [
      "[[15  8 22 12]\n",
      " [ 6 18  4 20]\n",
      " [11  3 16  7]]\n",
      "Pine count at site C: 4\n"
     ]
    }
   ],
   "source": [
    "# Species abundance data: 3 species across 4 sites\n",
    "# Rows = species (Oak, Pine, Birch), Columns = sites (A, B, C, D)\n",
    "species_abundance = np.array([[15, 8, 22, 12],   # Oak counts\n",
    "                             [6, 18, 4, 20],    # Pine counts  \n",
    "                             [11, 3, 16, 7]])   # Birch counts\n",
    "\n",
    "print(species_abundance)\n",
    "# array([[15,  8, 22, 12],\n",
    "#        [ 6, 18,  4, 20],\n",
    "#        [11,  3, 16,  7]])\n",
    "\n",
    "# Access Pine abundance at site C (row 1, column 2)\n",
    "pine_site_c = species_abundance[1, 2] \n",
    "print(f\"Pine count at site C: {pine_site_c}\")\n",
    "# Pine count at site C: 4"
   ]
  },
  {
   "cell_type": "markdown",
   "id": "2b53830d-e329-4ac7-8e5b-aab0b9803419",
   "metadata": {},
   "source": [
    "#### Array Attributes for Ecological Data Analysis\n",
    "Understanding your ecological dataset structure"
   ]
  },
  {
   "cell_type": "code",
   "execution_count": 5,
   "id": "306d8c9f-0a41-42d1-94fb-888cf9ceff5b",
   "metadata": {},
   "outputs": [
    {
     "name": "stdout",
     "output_type": "stream",
     "text": [
      "Number of dimensions: 3\n",
      "Shape (sensors, days, measurements): (1, 3, 4)\n",
      "Total measurements: 12\n",
      "Data type: float64\n"
     ]
    }
   ],
   "source": [
    "# Environmental monitoring data: 5 sensors, 3 days, 4 measurements/day\n",
    "sensor_data = np.array([[[23.1, 24.2, 25.0, 23.8],  # Sensor 1, Day 1\n",
    "                        [24.0, 25.1, 26.2, 24.9],   # Sensor 1, Day 2\n",
    "                        [22.8, 23.9, 24.7, 23.5]],  # Sensor 1, Day 3\n",
    "                       # ... data for sensors 2-5\n",
    "                       ])\n",
    "\n",
    "print(f\"Number of dimensions: {sensor_data.ndim}\")\n",
    "print(f\"Shape (sensors, days, measurements): {sensor_data.shape}\")\n",
    "print(f\"Total measurements: {sensor_data.size}\")\n",
    "print(f\"Data type: {sensor_data.dtype}\")\n"
   ]
  },
  {
   "cell_type": "markdown",
   "id": "955e18d2-ef7e-4838-a0d6-4e82b5acc55e",
   "metadata": {},
   "source": [
    "#### Creating Standard Ecological Arrays\n",
    "Initialize Arrays for Data Collection"
   ]
  },
  {
   "cell_type": "code",
   "execution_count": 6,
   "id": "7ded9e67-641c-4e92-9f62-d4a28f7c3cdf",
   "metadata": {},
   "outputs": [
    {
     "name": "stdout",
     "output_type": "stream",
     "text": [
      "[ 1.          1.68421053  2.36842105  3.05263158  3.73684211  4.42105263\n",
      "  5.10526316  5.78947368  6.47368421  7.15789474  7.84210526  8.52631579\n",
      "  9.21052632  9.89473684 10.57894737 11.26315789 11.94736842 12.63157895\n",
      " 13.31578947 14.        ]\n"
     ]
    }
   ],
   "source": [
    "# Create arrays for field data collection\n",
    "# 50 empty biodiversity measurements\n",
    "biodiversity_scores = np.zeros(50)\n",
    "\n",
    "# 3x10 matrix for species presence/absence (3 transects, 10 quadrats each)\n",
    "presence_absence = np.zeros((3, 10), dtype=int)\n",
    "\n",
    "# pH measurements from 1-14 scale, 20 evenly spaced points\n",
    "ph_range = np.linspace(1.0, 14.0, num=20)\n",
    "print(ph_range)\n",
    "# array([ 1.        ,  1.68421053,  2.36842105, ..., 13.31578947, 14.        ])\n"
   ]
  },
  {
   "cell_type": "markdown",
   "id": "bdd076b2-95fb-49fd-a261-c2e39e23d3f3",
   "metadata": {},
   "source": [
    "#### Generate Sampling Protocols"
   ]
  },
  {
   "cell_type": "code",
   "execution_count": 7,
   "id": "12c30377-59b4-476f-a331-afddf9806dca",
   "metadata": {},
   "outputs": [
    {
     "name": "stdout",
     "output_type": "stream",
     "text": [
      "Selected quadrats: [ 9 78 66 44 44 86  9 70 21 10]\n"
     ]
    }
   ],
   "source": [
    "# Random sampling for ecological surveys\n",
    "rng = np.random.default_rng(42)  # Reproducible results for research\n",
    "\n",
    "# Random quadrat selection (10 quadrats from 100 possible locations)\n",
    "quadrat_ids = rng.integers(1, 101, size=10)\n",
    "print(f\"Selected quadrats: {quadrat_ids}\")\n",
    "\n",
    "# Random GPS coordinates for sampling points\n",
    "latitude = rng.uniform(45.0, 46.0, size=20)  # Lat range for study area\n",
    "longitude = rng.uniform(-74.0, -73.0, size=20)  # Long range for study area\n"
   ]
  },
  {
   "cell_type": "markdown",
   "id": "89a29e43-4393-471a-bc79-d98b8c6417ad",
   "metadata": {},
   "source": [
    "#### Data Operations\n",
    "Species Richness and Diversity Calculations"
   ]
  },
  {
   "cell_type": "code",
   "execution_count": 8,
   "id": "bc6297bc-aae7-46f6-b98c-4cbe8b350399",
   "metadata": {},
   "outputs": [
    {
     "name": "stdout",
     "output_type": "stream",
     "text": [
      "Total abundance per site: [32 29 42 39 41]\n",
      "Species richness per site: [3 3 3 3 3]\n"
     ]
    }
   ],
   "source": [
    "# Species abundance data across sites\n",
    "oak_counts = np.array([15, 8, 22, 12, 18])\n",
    "pine_counts = np.array([6, 18, 4, 20, 14])\n",
    "birch_counts = np.array([11, 3, 16, 7, 9])\n",
    "\n",
    "# Calculate total abundance per site\n",
    "total_abundance = oak_counts + pine_counts + birch_counts\n",
    "print(f\"Total abundance per site: {total_abundance}\")\n",
    "\n",
    "# Species richness (number of species present)\n",
    "species_matrix = np.array([oak_counts, pine_counts, birch_counts])\n",
    "species_presence = species_matrix > 0  # Convert to presence/absence\n",
    "richness = np.sum(species_presence, axis=0)\n",
    "print(f\"Species richness per site: {richness}\")\n"
   ]
  },
  {
   "cell_type": "code",
   "execution_count": 10,
   "id": "64309b99-9e6a-4060-a00f-7ed3c9446f32",
   "metadata": {},
   "outputs": [
    {
     "name": "stdout",
     "output_type": "stream",
     "text": [
      "Mean temperature: 19.8°C\n",
      "Temperature range: 4.5°C\n",
      "Standard deviation: 1.5°C\n",
      "Hot days (>21°C): [22.3 21.7]\n",
      "Cold days (<19°C): [18.5 17.8 18.6]\n"
     ]
    }
   ],
   "source": [
    "# Temperature data analysis\n",
    "daily_temps = np.array([18.5, 19.2, 17.8, 20.1, 22.3, 21.7, 19.9, 18.6])\n",
    "\n",
    "# Basic statistics\n",
    "print(f\"Mean temperature: {daily_temps.mean():.1f}°C\")\n",
    "print(f\"Temperature range: {daily_temps.max() - daily_temps.min():.1f}°C\")\n",
    "print(f\"Standard deviation: {daily_temps.std():.1f}°C\")\n",
    "\n",
    "# Identify extreme temperatures\n",
    "hot_days = daily_temps > 21.0\n",
    "cold_days = daily_temps < 19.0\n",
    "print(f\"Hot days (>21°C): {daily_temps[hot_days]}\")\n",
    "print(f\"Cold days (<19°C): {daily_temps[cold_days]}\")"
   ]
  },
  {
   "cell_type": "markdown",
   "id": "0b3a6fe1-fd18-4a00-9e0f-453c54d6cedb",
   "metadata": {},
   "source": [
    "#### Preparing Data for Machine Learning\n",
    "Feature Matrix Creation"
   ]
  },
  {
   "cell_type": "code",
   "execution_count": 11,
   "id": "d0a4deb9-228a-4af1-b752-2bd959b60506",
   "metadata": {},
   "outputs": [
    {
     "name": "stdout",
     "output_type": "stream",
     "text": [
      "Feature matrix shape: (100, 4)\n",
      "First 5 locations:\n",
      "[[1291.41512393   13.10918723  867.51490976   83.72517859]\n",
      " [ 888.00476813   21.49614149 1081.49637226  132.30425164]\n",
      " [1425.13535874   13.21868014  818.11698138  131.90128194]\n",
      " [1482.16941492   18.68757784  928.78775866  117.89840319]\n",
      " [ 614.6894434    10.3319116   389.96557979  136.6070687 ]]\n",
      "Species presence rate: 32.00%\n"
     ]
    }
   ],
   "source": [
    "# Create feature matrix for species distribution modeling\n",
    "# Features: elevation, temperature, precipitation, aspect\n",
    "n_locations = 100\n",
    "rng = np.random.default_rng(42)\n",
    "\n",
    "elevation = rng.normal(1200, 300, n_locations)\n",
    "temperature = rng.normal(15, 5, n_locations)  \n",
    "precipitation = rng.normal(800, 200, n_locations)\n",
    "aspect = rng.uniform(0, 360, n_locations)\n",
    "\n",
    "# Combine into feature matrix (samples × features)\n",
    "features = np.column_stack([elevation, temperature, precipitation, aspect])\n",
    "print(f\"Feature matrix shape: {features.shape}\")\n",
    "print(\"First 5 locations:\")\n",
    "print(features[:5])\n",
    "\n",
    "# Create binary response variable (species presence/absence)\n",
    "# Complex ecological relationship\n",
    "suitability_score = (elevation - 1000)**2 + (temperature - 18)**2 + \\\n",
    "                   (precipitation - 900)**2\n",
    "species_presence = (suitability_score < 50000).astype(int)\n",
    "print(f\"Species presence rate: {species_presence.mean():.2%}\")\n"
   ]
  },
  {
   "cell_type": "code",
   "execution_count": 12,
   "id": "ccdf8ebd-f58d-4b42-a18b-df845ddfd7b5",
   "metadata": {},
   "outputs": [
    {
     "name": "stdout",
     "output_type": "stream",
     "text": [
      "Training set: 70 samples\n",
      "Test set: 30 samples\n",
      "Training presence rate: 32.86%\n"
     ]
    }
   ],
   "source": [
    "# Split data for machine learning\n",
    "n_train = int(0.7 * n_locations)  # 70% for training\n",
    "\n",
    "# Shuffle indices for random sampling\n",
    "indices = np.arange(n_locations)\n",
    "rng.shuffle(indices)\n",
    "\n",
    "train_indices = indices[:n_train]\n",
    "test_indices = indices[n_train:]\n",
    "\n",
    "# Training and testing sets\n",
    "X_train = features[train_indices]\n",
    "y_train = species_presence[train_indices]\n",
    "X_test = features[test_indices]\n",
    "y_test = species_presence[test_indices]\n",
    "\n",
    "print(f\"Training set: {X_train.shape[0]} samples\")\n",
    "print(f\"Test set: {X_test.shape[0]} samples\")\n",
    "print(f\"Training presence rate: {y_train.mean():.2%}\")\n"
   ]
  }
 ],
 "metadata": {
  "kernelspec": {
   "display_name": "Python 3 (ipykernel)",
   "language": "python",
   "name": "python3"
  },
  "language_info": {
   "codemirror_mode": {
    "name": "ipython",
    "version": 3
   },
   "file_extension": ".py",
   "mimetype": "text/x-python",
   "name": "python",
   "nbconvert_exporter": "python",
   "pygments_lexer": "ipython3",
   "version": "3.9.22"
  }
 },
 "nbformat": 4,
 "nbformat_minor": 5
}
