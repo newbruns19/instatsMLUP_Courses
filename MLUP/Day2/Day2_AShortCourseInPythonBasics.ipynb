{
 "cells": [
  {
   "cell_type": "markdown",
   "metadata": {
    "id": "CQglx6InY-DA"
   },
   "source": [
    "# Day 1: Exercises from the course \"Machine Learning using Python (MLUP01)\"\n",
    "\n",
    "**Sessions**: (1) Python Essentials for Machine Vision; (2) Data Structures and File Handling in Python\n",
    "\n",
    "**Instructor**: Gabriel Rodrigues Palma\n",
    "\n",
    "**Objective**: This day provides participants with the foundational Python skills required for machine vision tasks. This\n",
    "day is designed for beginners or those needing a refresher in Python programming."
   ]
  },
  {
   "cell_type": "markdown",
   "metadata": {
    "id": "38EUYf1OJFZr"
   },
   "source": [
    "# Session 2: Data Structures and File Handling in Python"
   ]
  },
  {
   "cell_type": "markdown",
   "metadata": {
    "id": "lQ26G2D5JFZr"
   },
   "source": [
    "## Writing Code that Speaks"
   ]
  },
  {
   "cell_type": "code",
   "execution_count": 6,
   "metadata": {
    "id": "UBsZbEtmJFZr"
   },
   "outputs": [],
   "source": [
    "# 1. Readability and Beauty\n",
    "# Clear variable names and simple structure\n",
    "temperature_celsius = 25.5\n",
    "humidity_percent = 80\n",
    "light_intensity = 1500  # lumens"
   ]
  },
  {
   "cell_type": "code",
   "execution_count": 2,
   "metadata": {
    "id": "iV6AaElpJFZr"
   },
   "outputs": [],
   "source": [
    "\n",
    "# 2. Explicitness and Clarity\n",
    "# Clear conditions and explicit thresholds\n",
    "def is_suitable_growth_condition(temp, humidity, light):\n",
    "    is_temp_good = 20 <= temp <= 30\n",
    "    is_humidity_good = 60 <= humidity <= 90\n",
    "    is_light_good = 1000 <= light <= 2000\n",
    "\n",
    "    return is_temp_good and is_humidity_good and is_light_good\n"
   ]
  },
  {
   "cell_type": "code",
   "execution_count": null,
   "metadata": {},
   "outputs": [],
   "source": [
    "def is_suitable_growth():\n",
    "    "
   ]
  },
  {
   "cell_type": "code",
   "execution_count": 7,
   "metadata": {
    "id": "Lg07g2B2JFZr"
   },
   "outputs": [],
   "source": [
    "# 3. Error Handling\n",
    "# Explicit error checking\n",
    "try:\n",
    "    if temperature_celsius < 0 or temperature_celsius > 50:\n",
    "        raise ValueError(\"Temperature out of realistic range\")\n",
    "\n",
    "    if humidity_percent < 0 or humidity_percent > 100:\n",
    "        raise ValueError(\"Humidity must be between 0-100%\")\n",
    "\n",
    "    if light_intensity < 0:\n",
    "        raise ValueError(\"Light intensity cannot be negative\")\n",
    "\n",
    "except ValueError as error:\n",
    "    print(f\"Error in measurements: {error}\")\n",
    "    exit()"
   ]
  },
  {
   "cell_type": "code",
   "execution_count": 4,
   "metadata": {
    "id": "kbeDSYuZJFZr"
   },
   "outputs": [],
   "source": [
    "# 4. Practicality\n",
    "# Simple, practical output\n",
    "growth_suitable = is_suitable_growth_condition(\n",
    "    temperature_celsius,\n",
    "    humidity_percent,\n",
    "    light_intensity\n",
    ")"
   ]
  },
  {
   "cell_type": "code",
   "execution_count": 5,
   "metadata": {
    "id": "0mVNokIyJFZr",
    "outputId": "087e11d0-7b70-49fd-8c27-19450faa8ac8"
   },
   "outputs": [
    {
     "name": "stdout",
     "output_type": "stream",
     "text": [
      "\n",
      "Plant Growth Condition Analysis:\n",
      "------------------------------\n",
      "Temperature: 25.5°C\n",
      "Humidity: 80%\n",
      "Light Intensity: 1500 lumens\n",
      "------------------------------\n",
      "Conditions Suitable: True\n"
     ]
    }
   ],
   "source": [
    "# 5. Code Organization\n",
    "# Organized output with clear sections\n",
    "print(\"\\nPlant Growth Condition Analysis:\")\n",
    "print(\"-\" * 30)\n",
    "print(f\"Temperature: {temperature_celsius}°C\")\n",
    "print(f\"Humidity: {humidity_percent}%\")\n",
    "print(f\"Light Intensity: {light_intensity} lumens\")\n",
    "print(\"-\" * 30)\n",
    "print(f\"Conditions Suitable: {growth_suitable}\")\n"
   ]
  },
  {
   "cell_type": "markdown",
   "metadata": {
    "id": "JWuALnQgJFZr"
   },
   "source": [
    "## Python Data Structures"
   ]
  },
  {
   "cell_type": "code",
   "execution_count": 29,
   "metadata": {
    "id": "33kD5GG-JFZr",
    "outputId": "ca2c4fb6-4b76-4018-f16a-863c7a9b78eb"
   },
   "outputs": [
    {
     "name": "stdout",
     "output_type": "stream",
     "text": [
      "First species: Wolf\n",
      "Last species: Eagle\n"
     ]
    }
   ],
   "source": [
    "# Basic List Creation and Access\n",
    "species = [\"Wolf\", \"Bear\", \"Eagle\"]\n",
    "print(f\"First species: {species[0]}\")\n",
    "print(f\"Last species: {species[-1]}\")"
   ]
  },
  {
   "cell_type": "code",
   "execution_count": 27,
   "metadata": {},
   "outputs": [
    {
     "data": {
      "text/plain": [
       "['Wolf', 'Bear', 'Eagle']"
      ]
     },
     "execution_count": 27,
     "metadata": {},
     "output_type": "execute_result"
    }
   ],
   "source": [
    "species"
   ]
  },
  {
   "cell_type": "code",
   "execution_count": 30,
   "metadata": {
    "id": "5_4NW0EGJFZr",
    "outputId": "9d6fc61c-dc2e-4a09-c891-825141223fd1"
   },
   "outputs": [
    {
     "name": "stdout",
     "output_type": "stream",
     "text": [
      "Updated list: ['Fox', 'Wolf', 'Bear', 'Eagle', 'Deer']\n"
     ]
    }
   ],
   "source": [
    "# Adding Species (append and insert)\n",
    "species.append(\"Deer\")\n",
    "species.insert(0, \"Fox\")\n",
    "print(f\"Updated list: {species}\")"
   ]
  },
  {
   "cell_type": "code",
   "execution_count": 31,
   "metadata": {
    "id": "JS_57GZmJFZr",
    "outputId": "9afcddc7-7b28-49e1-94d2-b6c470af783a"
   },
   "outputs": [
    {
     "name": "stdout",
     "output_type": "stream",
     "text": [
      "After removal: ['Fox', 'Wolf', 'Eagle']\n"
     ]
    }
   ],
   "source": [
    "# Removing Species (remove and pop)\n",
    "species.remove(\"Bear\")\n",
    "last_species = species.pop()\n",
    "print(f\"After removal: {species}\")"
   ]
  },
  {
   "cell_type": "code",
   "execution_count": 32,
   "metadata": {
    "id": "9FCEC37DJFZr",
    "outputId": "b92ab78a-c01d-4b60-d420-539bcb6948d1"
   },
   "outputs": [
    {
     "name": "stdout",
     "output_type": "stream",
     "text": [
      "First two species: ['Fox', 'Wolf']\n"
     ]
    }
   ],
   "source": [
    "# List Slicing\n",
    "first_two = species[:2]\n",
    "print(f\"First two species: {first_two}\")"
   ]
  },
  {
   "cell_type": "code",
   "execution_count": null,
   "metadata": {
    "id": "h1mzbpAgJFZv",
    "outputId": "5ca22cbb-5620-4573-9048-5f624972c50a"
   },
   "outputs": [
    {
     "name": "stdout",
     "output_type": "stream",
     "text": [
      "Unique species: {'Bear', 'Eagle', 'Wolf'}\n",
      "Wolf count: 2\n"
     ]
    }
   ],
   "source": [
    "# List Methods\n",
    "species = [\"Wolf\", \"Bear\", \"Wolf\", \"Eagle\"]\n",
    "unique_species = set(species)\n",
    "species_count = species.count(\"Wolf\")\n",
    "print(f\"Unique species: {unique_species}\")\n",
    "print(f\"Wolf count: {species_count}\")"
   ]
  },
  {
   "cell_type": "code",
   "execution_count": null,
   "metadata": {
    "id": "N8NEgwxJJFZv",
    "outputId": "e7f72221-a128-4aff-aa95-11f1465c7b58"
   },
   "outputs": [
    {
     "name": "stdout",
     "output_type": "stream",
     "text": [
      "Sorted species: ['Bear', 'Eagle', 'Wolf', 'Wolf']\n"
     ]
    }
   ],
   "source": [
    "# Sorting\n",
    "species.sort()\n",
    "print(f\"Sorted species: {species}\")"
   ]
  },
  {
   "cell_type": "markdown",
   "metadata": {
    "id": "VNnXwgsZJFZv"
   },
   "source": [
    "## Dictionary key-value relationships"
   ]
  },
  {
   "cell_type": "code",
   "execution_count": null,
   "metadata": {
    "id": "I-rdLLHqJFZv",
    "outputId": "7e603eb7-34ce-4af0-caec-6ae50c2db256"
   },
   "outputs": [
    {
     "name": "stdout",
     "output_type": "stream",
     "text": [
      "Panda status: Vulnerable\n",
      "Updated status: {'Amur Leopard': 'Critically Endangered', 'Black Rhino': 'Critically Endangered', 'Giant Panda': 'Vulnerable'}\n"
     ]
    }
   ],
   "source": [
    "# Example 1: Species Conservation Status\n",
    "conservation_status = {\n",
    "    \"Amur Leopard\": \"Critically Endangered\",\n",
    "    \"Black Rhino\": \"Endangered\",\n",
    "    \"Giant Panda\": \"Vulnerable\"\n",
    "}\n",
    "\n",
    "# Accessing and modifying\n",
    "print(f\"Panda status: {conservation_status['Giant Panda']}\")\n",
    "conservation_status['Black Rhino'] = \"Critically Endangered\"\n",
    "print(f\"Updated status: {conservation_status}\")"
   ]
  },
  {
   "cell_type": "code",
   "execution_count": null,
   "metadata": {
    "id": "R_zWSPP6JFZv",
    "outputId": "dfddbc14-6103-4989-fc60-41ef9fbf1110"
   },
   "outputs": [
    {
     "name": "stdout",
     "output_type": "stream",
     "text": [
      "Desert: 20°C to 45°C\n",
      "Rainforest: 15°C to 35°C\n",
      "Tundra: -40°C to 10°C\n"
     ]
    }
   ],
   "source": [
    "# Example 2: Habitat Temperature Ranges\n",
    "temperature_ranges = {\n",
    "    \"Desert\": {\"min\": 20, \"max\": 45},\n",
    "    \"Rainforest\": {\"min\": 15, \"max\": 35},\n",
    "    \"Tundra\": {\"min\": -40, \"max\": 10}\n",
    "}\n",
    "\n",
    "# Accessing nested data\n",
    "for habitat, temps in temperature_ranges.items():\n",
    "    print(f\"{habitat}: {temps['min']}°C to {temps['max']}°C\")"
   ]
  },
  {
   "cell_type": "markdown",
   "metadata": {
    "id": "cnT4Ei20JFZv"
   },
   "source": [
    "## Nested data structures"
   ]
  },
  {
   "cell_type": "code",
   "execution_count": null,
   "metadata": {
    "id": "ZaCld5gQJFZv",
    "outputId": "1d9aa4cb-ed5d-49fb-fe61-6eaa85d2936e"
   },
   "outputs": [
    {
     "name": "stdout",
     "output_type": "stream",
     "text": [
      "Species: Tiger\n",
      "Location: -2.5°N, 120.5°E\n",
      "Population: 350\n"
     ]
    }
   ],
   "source": [
    "# Example 1: Species Data with Location and Population\n",
    "# Structure: (species_name, (latitude, longitude), population_count)\n",
    "species_data = (\n",
    "    \"Tiger\",\n",
    "    (-2.5, 120.5),  # Geographic coordinates\n",
    "    350\n",
    ")\n",
    "\n",
    "# Accessing nested tuple data\n",
    "species_name, (lat, long), population = species_data\n",
    "print(f\"Species: {species_name}\")\n",
    "print(f\"Location: {lat}°N, {long}°E\")\n",
    "print(f\"Population: {population}\")"
   ]
  },
  {
   "cell_type": "code",
   "execution_count": null,
   "metadata": {
    "id": "A70Z8U1aJFZv",
    "outputId": "d83cd026-0506-42f6-cec6-dffb13816f0e"
   },
   "outputs": [
    {
     "name": "stdout",
     "output_type": "stream",
     "text": [
      "\n",
      "Survey Date: 2024-01-20\n",
      "Conditions: 23.5°C, 85%\n",
      "Observations: 12 species by Dr. Smith\n"
     ]
    }
   ],
   "source": [
    "# Example 2: Field Survey Data\n",
    "# Structure: (date, (temperature, humidity), (species_count, observer))\n",
    "survey_data = (\n",
    "    \"2024-01-20\",\n",
    "    (23.5, 85),\n",
    "    (12, \"Dr. Smith\")\n",
    ")\n",
    "\n",
    "# Accessing and unpacking nested data\n",
    "date, (temp, humid), (count, observer) = survey_data\n",
    "print(f\"\\nSurvey Date: {date}\")\n",
    "print(f\"Conditions: {temp}°C, {humid}%\")\n",
    "print(f\"Observations: {count} species by {observer}\")"
   ]
  },
  {
   "cell_type": "markdown",
   "metadata": {
    "id": "jtXqIoCCJFZv"
   },
   "source": [
    "## Functions and Classes"
   ]
  },
  {
   "cell_type": "code",
   "execution_count": 34,
   "metadata": {
    "id": "IGcNPRBqJFZv",
    "outputId": "7179d688-8365-489f-e9b3-956e94fc0966"
   },
   "outputs": [
    {
     "name": "stdout",
     "output_type": "stream",
     "text": [
      "Function Example:\n",
      "Species Monarch Butterfly: Rare (5 individuals) in Optimal conditions\n"
     ]
    }
   ],
   "source": [
    "# First: Function-based approach\n",
    "def analyze_species_observation(species_name, count, temperature):\n",
    "    \"\"\"\n",
    "    Analyze single species observation data.\n",
    "    \"\"\"\n",
    "    status = \"Common\" if count > 10 else \"Rare\"\n",
    "\n",
    "    if temperature < 20:\n",
    "        condition = \"Cold\"\n",
    "    elif temperature > 30:\n",
    "        condition = \"Hot\"\n",
    "    else:\n",
    "        condition = \"Optimal\"\n",
    "\n",
    "    return f\"Species {species_name}: {status} ({count} individuals) in {condition} conditions\"\n",
    "\n",
    "# Using the function\n",
    "print(\"Function Example:\")\n",
    "result = analyze_species_observation(\"Monarch Butterfly\", 5, 25)\n",
    "print(result)"
   ]
  },
  {
   "cell_type": "code",
   "execution_count": 35,
   "metadata": {},
   "outputs": [],
   "source": [
    "def is_bigger_then_20(number):\n",
    "    \"\"\" This function checks for a value of a \n",
    "        number to be bigger than 20\n",
    "        \n",
    "        Input:\n",
    "        ------\n",
    "        \n",
    "             number (interger): This is the number that I am checking\n",
    "\n",
    "             \n",
    "        Ouput:\n",
    "        ------\n",
    "        \n",
    "             result (boolean): This is a True or False dependent on the number received\n",
    "        \n",
    "        Examples:    \n",
    "        ---------\n",
    "        > number <- 21\n",
    "        > is_bigger_than_20(number)\n",
    "        > True\n",
    "    \"\"\"\n",
    "\n",
    "    if number > 20:\n",
    "        result = True\n",
    "    else:\n",
    "        rusult = False\n",
    "\n",
    "    return(result)"
   ]
  },
  {
   "cell_type": "code",
   "execution_count": 39,
   "metadata": {},
   "outputs": [
    {
     "name": "stdout",
     "output_type": "stream",
     "text": [
      "Help on function is_bigger_then_20 in module __main__:\n",
      "\n",
      "is_bigger_then_20(number)\n",
      "    This function checks for a value of a number to be bigger than 20\n",
      "    Input:\n",
      "         number (interger): This is the number that I am checking\n",
      "    Ouput: \n",
      "         result (boolean): This is a True or False dependent on the number received\n",
      "    \n",
      "    Examples:    \n",
      "    ---------\n",
      "    > number <- 21\n",
      "    > is_bigger_than_20(number)\n",
      "    > True\n",
      "\n"
     ]
    }
   ],
   "source": [
    "help(is_bigger_then_20)"
   ]
  },
  {
   "cell_type": "code",
   "execution_count": 41,
   "metadata": {
    "id": "Kea0qvgzJFZv",
    "outputId": "93ebb0e5-bf51-4a28-e768-0ac297d528a3"
   },
   "outputs": [
    {
     "name": "stdout",
     "output_type": "stream",
     "text": [
      "\n",
      "Class Example:\n",
      "Species Monarch Butterfly: Rare (5 individuals) in Optimal conditions\n"
     ]
    }
   ],
   "source": [
    "# Then: Class-based approach\n",
    "class SpeciesObservation:\n",
    "    \"\"\"\n",
    "    Class to handle species observation data and analysis.\n",
    "    \"\"\"\n",
    "    def __init__(self, species_name, count, temperature):\n",
    "        self.species_name = species_name\n",
    "        self.count = count\n",
    "        self.temperature = temperature\n",
    "\n",
    "    def get_status(self):                  \n",
    "        return \"Common\" if self.count > 10 else \"Rare\"\n",
    "\n",
    "    def get_condition(self):\n",
    "        if self.temperature < 20:\n",
    "            return \"Cold\"\n",
    "        elif self.temperature > 30:\n",
    "            return \"Hot\"\n",
    "        return \"Optimal\"\n",
    "\n",
    "    def analyze(self):\n",
    "        status = self.get_status()\n",
    "        condition = self.get_condition()\n",
    "        return f\"Species {self.species_name}: {status} ({self.count} individuals) in {condition} conditions\"\n",
    "\n",
    "# Using the class\n",
    "print(\"\\nClass Example:\")\n",
    "observation = SpeciesObservation(\"Monarch Butterfly\", 5, 25)\n",
    "result = observation.analyze()\n",
    "print(result)"
   ]
  },
  {
   "cell_type": "code",
   "execution_count": 43,
   "metadata": {},
   "outputs": [],
   "source": [
    "observation = SpeciesObservation(species_name = \"Monarch Butterfly\", count= 5, temperature = 25)"
   ]
  },
  {
   "cell_type": "code",
   "execution_count": 45,
   "metadata": {},
   "outputs": [
    {
     "data": {
      "text/plain": [
       "'Species Monarch Butterfly: Rare (5 individuals) in Optimal conditions'"
      ]
     },
     "execution_count": 45,
     "metadata": {},
     "output_type": "execute_result"
    }
   ],
   "source": [
    "observation.analyze()"
   ]
  },
  {
   "cell_type": "code",
   "execution_count": 46,
   "metadata": {
    "id": "_V6zWbSGJFZv",
    "outputId": "68b8c5dd-0035-4db3-dcc0-de54c95bfce5"
   },
   "outputs": [
    {
     "name": "stdout",
     "output_type": "stream",
     "text": [
      "Function Example:\n",
      "Species Monarch Butterfly: Rare (5 individuals) in Optimal conditions\n",
      "\n",
      "Class Example:\n",
      "Species Monarch Butterfly: Rare (5 individuals) in Optimal conditions\n"
     ]
    }
   ],
   "source": [
    "def analyze_species_observation(species_name, count, temperature):\n",
    "    \"\"\"\n",
    "    Analyze species observation data and return a formatted status report.\n",
    "\n",
    "    Parameters\n",
    "    ----------\n",
    "    species_name\n",
    "        The scientific or common name of the observed species\n",
    "    count\n",
    "        Number of individuals observed\n",
    "    temperature\n",
    "        Ambient temperature in Celsius during observation\n",
    "\n",
    "    Returns\n",
    "    -------\n",
    "    str\n",
    "        A formatted string containing species status, count, and environmental conditions\n",
    "\n",
    "    Examples\n",
    "    --------\n",
    "    >>> analyze_species_observation(\"Monarch Butterfly\", 5, 25)\n",
    "    'Species Monarch Butterfly: Rare (5 individuals) in Optimal conditions'\n",
    "\n",
    "    Notes\n",
    "    -----\n",
    "    Status criteria:\n",
    "        - Common: > 10 individuals\n",
    "        - Rare: <= 10 individuals\n",
    "\n",
    "    Temperature conditions:\n",
    "        - Cold: < 20°C\n",
    "        - Optimal: 20-30°C\n",
    "        - Hot: > 30°C\n",
    "    \"\"\"\n",
    "    status = \"Common\" if count > 10 else \"Rare\"\n",
    "\n",
    "    if temperature < 20:\n",
    "        condition = \"Cold\"\n",
    "    elif temperature > 30:\n",
    "        condition = \"Hot\"\n",
    "    else:\n",
    "        condition = \"Optimal\"\n",
    "\n",
    "    return f\"Species {species_name}: {status} ({count} individuals) in {condition} conditions\"\n",
    "\n",
    "\n",
    "class SpeciesObservation:\n",
    "    \"\"\"\n",
    "    A class to handle and analyze species observation data.\n",
    "\n",
    "    Parameters\n",
    "    ----------\n",
    "    species_name\n",
    "        The scientific or common name of the observed species\n",
    "    count\n",
    "        Number of individuals observed\n",
    "    temperature\n",
    "        Ambient temperature in Celsius during observation\n",
    "\n",
    "    Attributes\n",
    "    ----------\n",
    "    species_name\n",
    "        Stored species name\n",
    "    count\n",
    "        Stored count of individuals\n",
    "    temperature\n",
    "        Stored ambient temperature\n",
    "\n",
    "    Methods\n",
    "    -------\n",
    "    get_status()\n",
    "        Returns population status based on count\n",
    "    get_condition()\n",
    "        Returns environmental condition based on temperature\n",
    "    analyze()\n",
    "        Returns complete analysis of the observation\n",
    "\n",
    "    Examples\n",
    "    --------\n",
    "    >>> observation = SpeciesObservation(\"Monarch Butterfly\", 5, 25)\n",
    "    >>> observation.analyze()\n",
    "    'Species Monarch Butterfly: Rare (5 individuals) in Optimal conditions'\n",
    "    \"\"\"\n",
    "\n",
    "    def __init__(self, species_name, count, temperature):\n",
    "        \"\"\"\n",
    "        Initialize SpeciesObservation with observation data.\n",
    "\n",
    "        Parameters\n",
    "        ----------\n",
    "        species_name\n",
    "            The scientific or common name of the observed species\n",
    "        count\n",
    "            Number of individuals observed\n",
    "        temperature\n",
    "            Ambient temperature in Celsius\n",
    "        \"\"\"\n",
    "        self.species_name = species_name\n",
    "        self.count = count\n",
    "        self.temperature = temperature\n",
    "\n",
    "    def get_status(self):\n",
    "        \"\"\"\n",
    "        Determine population status based on count.\n",
    "\n",
    "        Returns\n",
    "        -------\n",
    "        str\n",
    "            'Common' if count > 10, otherwise 'Rare'\n",
    "        \"\"\"\n",
    "        return \"Common\" if self.count > 10 else \"Rare\"\n",
    "\n",
    "    def get_condition(self):\n",
    "        \"\"\"\n",
    "        Determine environmental condition based on temperature.\n",
    "\n",
    "        Returns\n",
    "        -------\n",
    "        str\n",
    "            'Cold' if < 20°C\n",
    "            'Optimal' if 20-30°C\n",
    "            'Hot' if > 30°C\n",
    "        \"\"\"\n",
    "        if self.temperature < 20:\n",
    "            return \"Cold\"\n",
    "        elif self.temperature > 30:\n",
    "            return \"Hot\"\n",
    "        return \"Optimal\"\n",
    "\n",
    "    def analyze(self):\n",
    "        \"\"\"\n",
    "        Perform complete analysis of the observation.\n",
    "\n",
    "        Returns\n",
    "        -------\n",
    "        str\n",
    "            Formatted string containing species status, count, and conditions\n",
    "        \"\"\"\n",
    "        status = self.get_status()\n",
    "        condition = self.get_condition()\n",
    "        return f\"Species {self.species_name}: {status} ({self.count} individuals) in {condition} conditions\"\n",
    "\n",
    "\n",
    "# Example usage\n",
    "print(\"Function Example:\")\n",
    "result = analyze_species_observation(\"Monarch Butterfly\", 5, 25)\n",
    "print(result)\n",
    "\n",
    "print(\"\\nClass Example:\")\n",
    "observation = SpeciesObservation(\"Monarch Butterfly\", 5, 25)\n",
    "result = observation.analyze()\n",
    "print(result)"
   ]
  },
  {
   "cell_type": "code",
   "execution_count": 47,
   "metadata": {},
   "outputs": [
    {
     "ename": "NameError",
     "evalue": "name 'analyze' is not defined",
     "output_type": "error",
     "traceback": [
      "\u001b[0;31m---------------------------------------------------------------------------\u001b[0m",
      "\u001b[0;31mNameError\u001b[0m                                 Traceback (most recent call last)",
      "Cell \u001b[0;32mIn[47], line 1\u001b[0m\n\u001b[0;32m----> 1\u001b[0m \u001b[43manalyze\u001b[49m\n",
      "\u001b[0;31mNameError\u001b[0m: name 'analyze' is not defined"
     ]
    }
   ],
   "source": [
    "analyze"
   ]
  },
  {
   "cell_type": "code",
   "execution_count": 48,
   "metadata": {},
   "outputs": [],
   "source": [
    "import numpy as np"
   ]
  },
  {
   "cell_type": "code",
   "execution_count": 51,
   "metadata": {},
   "outputs": [
    {
     "name": "stdout",
     "output_type": "stream",
     "text": [
      "Help on built-in function array in module numpy:\n",
      "\n",
      "array(...)\n",
      "    array(object, dtype=None, *, copy=True, order='K', subok=False, ndmin=0,\n",
      "          like=None)\n",
      "    \n",
      "    Create an array.\n",
      "    \n",
      "    Parameters\n",
      "    ----------\n",
      "    object : array_like\n",
      "        An array, any object exposing the array interface, an object whose\n",
      "        ``__array__`` method returns an array, or any (nested) sequence.\n",
      "        If object is a scalar, a 0-dimensional array containing object is\n",
      "        returned.\n",
      "    dtype : data-type, optional\n",
      "        The desired data-type for the array. If not given, NumPy will try to use\n",
      "        a default ``dtype`` that can represent the values (by applying promotion\n",
      "        rules when necessary.)\n",
      "    copy : bool, optional\n",
      "        If ``True`` (default), then the array data is copied. If ``None``,\n",
      "        a copy will only be made if ``__array__`` returns a copy, if obj is\n",
      "        a nested sequence, or if a copy is needed to satisfy any of the other\n",
      "        requirements (``dtype``, ``order``, etc.). Note that any copy of\n",
      "        the data is shallow, i.e., for arrays with object dtype, the new\n",
      "        array will point to the same objects. See Examples for `ndarray.copy`.\n",
      "        For ``False`` it raises a ``ValueError`` if a copy cannot be avoided.\n",
      "        Default: ``True``.\n",
      "    order : {'K', 'A', 'C', 'F'}, optional\n",
      "        Specify the memory layout of the array. If object is not an array, the\n",
      "        newly created array will be in C order (row major) unless 'F' is\n",
      "        specified, in which case it will be in Fortran order (column major).\n",
      "        If object is an array the following holds.\n",
      "    \n",
      "        ===== ========= ===================================================\n",
      "        order  no copy                     copy=True\n",
      "        ===== ========= ===================================================\n",
      "        'K'   unchanged F & C order preserved, otherwise most similar order\n",
      "        'A'   unchanged F order if input is F and not C, otherwise C order\n",
      "        'C'   C order   C order\n",
      "        'F'   F order   F order\n",
      "        ===== ========= ===================================================\n",
      "    \n",
      "        When ``copy=None`` and a copy is made for other reasons, the result is\n",
      "        the same as if ``copy=True``, with some exceptions for 'A', see the\n",
      "        Notes section. The default order is 'K'.\n",
      "    subok : bool, optional\n",
      "        If True, then sub-classes will be passed-through, otherwise\n",
      "        the returned array will be forced to be a base-class array (default).\n",
      "    ndmin : int, optional\n",
      "        Specifies the minimum number of dimensions that the resulting\n",
      "        array should have.  Ones will be prepended to the shape as\n",
      "        needed to meet this requirement.\n",
      "    like : array_like, optional\n",
      "        Reference object to allow the creation of arrays which are not\n",
      "        NumPy arrays. If an array-like passed in as ``like`` supports\n",
      "        the ``__array_function__`` protocol, the result will be defined\n",
      "        by it. In this case, it ensures the creation of an array object\n",
      "        compatible with that passed in via this argument.\n",
      "    \n",
      "        .. versionadded:: 1.20.0\n",
      "    \n",
      "    Returns\n",
      "    -------\n",
      "    out : ndarray\n",
      "        An array object satisfying the specified requirements.\n",
      "    \n",
      "    See Also\n",
      "    --------\n",
      "    empty_like : Return an empty array with shape and type of input.\n",
      "    ones_like : Return an array of ones with shape and type of input.\n",
      "    zeros_like : Return an array of zeros with shape and type of input.\n",
      "    full_like : Return a new array with shape of input filled with value.\n",
      "    empty : Return a new uninitialized array.\n",
      "    ones : Return a new array setting values to one.\n",
      "    zeros : Return a new array setting values to zero.\n",
      "    full : Return a new array of given shape filled with value.\n",
      "    copy: Return an array copy of the given object.\n",
      "    \n",
      "    \n",
      "    Notes\n",
      "    -----\n",
      "    When order is 'A' and ``object`` is an array in neither 'C' nor 'F' order,\n",
      "    and a copy is forced by a change in dtype, then the order of the result is\n",
      "    not necessarily 'C' as expected. This is likely a bug.\n",
      "    \n",
      "    Examples\n",
      "    --------\n",
      "    >>> np.array([1, 2, 3])\n",
      "    array([1, 2, 3])\n",
      "    \n",
      "    Upcasting:\n",
      "    \n",
      "    >>> np.array([1, 2, 3.0])\n",
      "    array([ 1.,  2.,  3.])\n",
      "    \n",
      "    More than one dimension:\n",
      "    \n",
      "    >>> np.array([[1, 2], [3, 4]])\n",
      "    array([[1, 2],\n",
      "           [3, 4]])\n",
      "    \n",
      "    Minimum dimensions 2:\n",
      "    \n",
      "    >>> np.array([1, 2, 3], ndmin=2)\n",
      "    array([[1, 2, 3]])\n",
      "    \n",
      "    Type provided:\n",
      "    \n",
      "    >>> np.array([1, 2, 3], dtype=complex)\n",
      "    array([ 1.+0.j,  2.+0.j,  3.+0.j])\n",
      "    \n",
      "    Data-type consisting of more than one element:\n",
      "    \n",
      "    >>> x = np.array([(1,2),(3,4)],dtype=[('a','<i4'),('b','<i4')])\n",
      "    >>> x['a']\n",
      "    array([1, 3])\n",
      "    \n",
      "    Creating an array from sub-classes:\n",
      "    \n",
      "    >>> np.array(np.asmatrix('1 2; 3 4'))\n",
      "    array([[1, 2],\n",
      "           [3, 4]])\n",
      "    \n",
      "    >>> np.array(np.asmatrix('1 2; 3 4'), subok=True)\n",
      "    matrix([[1, 2],\n",
      "            [3, 4]])\n",
      "\n"
     ]
    }
   ],
   "source": [
    "help(np.array)"
   ]
  },
  {
   "cell_type": "markdown",
   "metadata": {
    "id": "1yfBPZCmJFZv"
   },
   "source": [
    "## Putting It All Together"
   ]
  },
  {
   "cell_type": "markdown",
   "metadata": {
    "id": "Vsm3htPKJFZw"
   },
   "source": [
    "## Exercise 1: Basic Species Data Processing\n",
    "**Task:**\n",
    "1. Create variables to store species data following the naming conventions\n",
    "2. Implement the classification logic for species status\n",
    "3. Add temperature condition assessment\n",
    "4. Create a formatted output report\n",
    "5. Test with at least three different species\n",
    "\n",
    "**Expected Variables:**\n",
    "- `species_name`: str (scientific name)\n",
    "- `count`: int (positive number)\n",
    "- `temperature`: float (range: -10 to 45°C)\n",
    "- `status`: str (\"Rare\" or \"Common\")\n",
    "- `temp_condition`: str (\"Optimal\" or \"Not Optimal\")\n"
   ]
  },
  {
   "cell_type": "code",
   "execution_count": null,
   "metadata": {
    "id": "5N80Z0TcJFZw"
   },
   "outputs": [],
   "source": [
    "# Your code\n",
    "\n",
    "\n"
   ]
  },
  {
   "cell_type": "code",
   "execution_count": null,
   "metadata": {
    "id": "G2wm_KwSJFZw",
    "outputId": "a6b8e353-aa49-4ba4-c015-543ec7fb5d7c"
   },
   "outputs": [
    {
     "name": "stdout",
     "output_type": "stream",
     "text": [
      "Species: Danaus plexippus\n",
      "Status: Rare (5 individuals)\n",
      "Temperature Condition: Optimal (25.5°C)\n"
     ]
    }
   ],
   "source": [
    "# Answer:\n",
    "# Input variables with proper naming\n",
    "species_name = \"Danaus plexippus\"  # Monarch Butterfly\n",
    "count = 5\n",
    "temperature = 25.5\n",
    "\n",
    "# Process data with clear variable names\n",
    "status = \"Common\" if count >= 10 else \"Rare\"\n",
    "temp_condition = \"Optimal\" if 20 <= temperature <= 30 else \"Not Optimal\"\n",
    "\n",
    "# Print report with formatted output\n",
    "print(f\"Species: {species_name}\")\n",
    "print(f\"Status: {status} ({count} individuals)\")\n",
    "print(f\"Temperature Condition: {temp_condition} ({temperature}°C)\")"
   ]
  },
  {
   "cell_type": "markdown",
   "metadata": {
    "id": "vd_dtcwCJFZw"
   },
   "source": [
    "## Exercise 2: Habitat Classification\n",
    "**Task:**\n",
    "1. Create a list of valid habitat types\n",
    "2. Implement input validation for rainfall and elevation\n",
    "3. Create the habitat classification logic using if/elif/else\n",
    "4. Add error handling for invalid inputs\n",
    "5. Test the program with different environmental conditions\n",
    "\n",
    "**Expected Variables:**\n",
    "- `rainfall`: float (range: 0-5000 mm)\n",
    "- `elevation`: float (range: 0-8848 m)\n",
    "- `habitat`: str (from defined habitat types)\n",
    "- `habitat_types`: list of valid habitats"
   ]
  },
  {
   "cell_type": "code",
   "execution_count": null,
   "metadata": {
    "id": "hDHLBp6wJFZw"
   },
   "outputs": [],
   "source": [
    "# Your code"
   ]
  },
  {
   "cell_type": "code",
   "execution_count": 59,
   "metadata": {
    "id": "3AhFrlG8JFZw"
   },
   "outputs": [
    {
     "name": "stdout",
     "output_type": "stream",
     "text": [
      "My Error: Rainfall must be between 0-5000mm\n"
     ]
    }
   ],
   "source": [
    "# Answer\n",
    "# Define valid habitat types\n",
    "habitat_types = [\"Desert\", \"Mountain Scrubland\", \"Savanna\", \"Tropical Rainforest\"]\n",
    "\n",
    "# Input data with range validation\n",
    "rainfall = -800    # mm/year\n",
    "elevation = 1500  # meters\n",
    "\n",
    "try:\n",
    "    # Input validation\n",
    "    if not (0 <= rainfall <= 5000):\n",
    "        raise ValueError(\"Rainfall must be between 0-5000mm\")\n",
    "    if not (0 <= elevation <= 8848):\n",
    "        raise ValueError(\"Elevation must be between 0-8848m\")\n",
    "\n",
    "    # Classification logic\n",
    "    if rainfall < 250:\n",
    "        habitat = habitat_types[0]  # Desert\n",
    "    elif rainfall < 1000 and elevation > 1000:\n",
    "        habitat = habitat_types[1]  # Mountain Scrubland\n",
    "    elif rainfall < 2000:\n",
    "        habitat = habitat_types[2]  # Savanna\n",
    "    else:\n",
    "        habitat = habitat_types[3]  # Tropical Rainforest\n",
    "\n",
    "    print(f\"Habitat Classification: {habitat}\")\n",
    "    print(f\"Based on: {rainfall}mm rainfall, {elevation}m elevation\")\n",
    "\n",
    "except ValueError as e:\n",
    "    print(f\"My Error: {e}\")"
   ]
  },
  {
   "cell_type": "markdown",
   "metadata": {
    "id": "6NsX8csrJFZw"
   },
   "source": [
    "## Exercise 3: Species Population Monitoring\n",
    "**Task:**\n",
    "1. Create a loop to monitor population changes over time\n",
    "2. Implement threshold detection for population decline\n",
    "3. Calculate growth rate between observations\n",
    "4. Generate alerts for concerning trends\n",
    "5. Create a summary of population dynamics\n",
    "\n",
    "**Expected Variables:**\n",
    "- `population_data`: list of int (counts over time)\n",
    "- `threshold`: float (critical decline percentage)\n",
    "- `growth_rate`: float (percentage change)\n",
    "- `alert_status`: str (\"Stable\", \"Warning\", \"Critical\")"
   ]
  },
  {
   "cell_type": "code",
   "execution_count": null,
   "metadata": {
    "id": "CI7vyPVpJFZw"
   },
   "outputs": [],
   "source": [
    "# Your code"
   ]
  },
  {
   "cell_type": "code",
   "execution_count": 60,
   "metadata": {
    "id": "32iQ3PetJFZw",
    "outputId": "96b3e5dc-6151-46e6-9a2a-724d7c7d5c87"
   },
   "outputs": [
    {
     "name": "stdout",
     "output_type": "stream",
     "text": [
      "Time Period 1:\n",
      "Population: 95\n",
      "Growth Rate: -5.0%\n",
      "Total Decline: 5.0%\n",
      "Status: Warning\n",
      "\n",
      "Time Period 2:\n",
      "Population: 85\n",
      "Growth Rate: -10.5%\n",
      "Total Decline: 15.0%\n",
      "Status: Warning\n",
      "\n",
      "Time Period 3:\n",
      "Population: 82\n",
      "Growth Rate: -3.5%\n",
      "Total Decline: 18.0%\n",
      "Status: Warning\n",
      "\n",
      "Time Period 4:\n",
      "Population: 75\n",
      "Growth Rate: -8.5%\n",
      "Total Decline: 25.0%\n",
      "Status: Critical\n",
      "\n"
     ]
    }
   ],
   "source": [
    "# Answe\n",
    "# Initialize monitoring data\n",
    "population_data = [100, 95, 85, 82, 75]\n",
    "threshold = 20  # 20% decline threshold\n",
    "initial_population = population_data[0]\n",
    "\n",
    "# Monitor population changes\n",
    "for i in range(1, len(population_data)):\n",
    "    current = population_data[i]\n",
    "    previous = population_data[i-1]\n",
    "\n",
    "    # Calculate decline percentage from initial population\n",
    "    total_decline = ((initial_population - current) / initial_population) * 100\n",
    "\n",
    "    # Calculate growth rate\n",
    "    growth_rate = ((current - previous) / previous) * 100\n",
    "\n",
    "    # Determine alert status\n",
    "    if total_decline >= threshold:\n",
    "        alert_status = \"Critical\"\n",
    "    elif growth_rate < 0:\n",
    "        alert_status = \"Warning\"\n",
    "    else:\n",
    "        alert_status = \"Stable\"\n",
    "\n",
    "    print(f\"Time Period {i}:\")\n",
    "    print(f\"Population: {current}\")\n",
    "    print(f\"Growth Rate: {growth_rate:.1f}%\")\n",
    "    print(f\"Total Decline: {total_decline:.1f}%\")\n",
    "    print(f\"Status: {alert_status}\\n\")"
   ]
  },
  {
   "cell_type": "markdown",
   "metadata": {
    "id": "qQluWrtBJFZw"
   },
   "source": [
    "## Exercise 4: Environmental Data Processing\n",
    "**Task:**\n",
    "1. Create variables for multiple environmental parameters\n",
    "2. Implement data validation for each parameter\n",
    "3. Create a classification system for environmental conditions\n",
    "4. Handle missing or invalid data\n",
    "5. Generate a comprehensive environmental report\n",
    "\n",
    "**Expected Variables:**\n",
    "- `temperature`: float (-10 to 45°C)\n",
    "- `humidity`: float (0-100%)\n",
    "- `soil_ph`: float (0-14)\n",
    "- `light_intensity`: float (0-100000 lux)\n",
    "- `conditions`: dict (parameter assessments)"
   ]
  },
  {
   "cell_type": "code",
   "execution_count": null,
   "metadata": {
    "id": "AKw3MiU8JFZw"
   },
   "outputs": [],
   "source": [
    "# Your code"
   ]
  },
  {
   "cell_type": "code",
   "execution_count": null,
   "metadata": {
    "id": "rjX0IdgZJFZw",
    "jupyter": {
     "source_hidden": true
    },
    "outputId": "4fdb228b-bf47-4ce3-c039-d26d93f9bd5d"
   },
   "outputs": [
    {
     "name": "stdout",
     "output_type": "stream",
     "text": [
      "Environmental Conditions Report:\n",
      "Temperature: Optimal\n",
      "Humidity: Optimal\n",
      "Soil_Ph: Optimal\n",
      "Light: Optimal\n"
     ]
    }
   ],
   "source": [
    "# Answer\n",
    "def validate_environmental_data(temp, humid, ph, light):\n",
    "    \"\"\"Validate environmental parameters.\"\"\"\n",
    "    if not -10 <= temp <= 45:\n",
    "        raise ValueError(\"Temperature out of range\")\n",
    "    if not 0 <= humid <= 100:\n",
    "        raise ValueError(\"Humidity out of range\")\n",
    "    if not 0 <= ph <= 14:\n",
    "        raise ValueError(\"pH out of range\")\n",
    "    if not 0 <= light <= 100000:\n",
    "        raise ValueError(\"Light intensity out of range\")\n",
    "\n",
    "try:\n",
    "    # Input data\n",
    "    temperature = 25.5\n",
    "    humidity = 65.0\n",
    "    soil_ph = 6.8\n",
    "    light_intensity = 50000\n",
    "\n",
    "    # Validate data\n",
    "    validate_environmental_data(temperature, humidity, soil_ph, light_intensity)\n",
    "\n",
    "    # Classify conditions\n",
    "    conditions = {\n",
    "        \"temperature\": \"Optimal\" if 20 <= temperature <= 30 else \"Suboptimal\",\n",
    "        \"humidity\": \"Optimal\" if 60 <= humidity <= 80 else \"Suboptimal\",\n",
    "        \"soil_ph\": \"Optimal\" if 6.0 <= soil_ph <= 7.5 else \"Suboptimal\",\n",
    "        \"light\": \"Optimal\" if 30000 <= light_intensity <= 70000 else \"Suboptimal\"\n",
    "    }\n",
    "\n",
    "    # Generate report\n",
    "    print(\"Environmental Conditions Report:\")\n",
    "    for param, status in conditions.items():\n",
    "        print(f\"{param.title()}: {status}\")\n",
    "\n",
    "except ValueError as e:\n",
    "    print(f\"Error: {e}\")"
   ]
  },
  {
   "cell_type": "markdown",
   "metadata": {
    "id": "IpvM21yHJFZw"
   },
   "source": [
    "### 3. Shannon's Diversity Index (H)\n",
    "- **Definition**: Measures species diversity by accounting for both abundance and evenness\n",
    "- **Formula**: H = -Σ(pi × ln(pi))\n",
    "  - Where pi = proportion of individuals of species i\n",
    "  - ln = natural logarithm\n",
    "- **Range**: Typically 1.5 to 3.5\n",
    "  - Higher values = more diverse\n",
    "- **Example Calculation**:\n",
    "  1. Calculate proportion for each species (pi)\n",
    "  2. Calculate ln(pi)\n",
    "  3. Multiply pi × ln(pi)\n",
    "  4. Sum all values\n",
    "  5. Multiply by -1\n",
    "\n",
    "### Example with Real Numbers:\n",
    "Given community:\n",
    "- Species A: 10 individuals\n",
    "- Species B: 15 individuals\n",
    "- Species C: 5 individuals\n",
    "\n",
    "1. **Species Richness**\n",
    "   - S = 3 species\n",
    "\n",
    "2. **Simpson's Index**\n",
    "   - Total (N) = 30 individuals\n",
    "   - Species A: pA = 10/30 = 0.333\n",
    "   - Species B: pB = 15/30 = 0.500\n",
    "   - Species C: pC = 5/30 = 0.167\n",
    "   - D = 1 - [(0.333)² + (0.500)² + (0.167)²]\n",
    "   - D = 1 - [0.111 + 0.250 + 0.028]\n",
    "   - D = 1 - 0.389\n",
    "   - D = 0.611\n",
    "\n",
    "3. **Shannon's Index**\n",
    "   - H = -(0.333 × ln(0.333) + 0.500 × ln(0.500) + 0.167 × ln(0.167))\n",
    "   - H = -(-0.366 - 0.347 - 0.298)\n",
    "   - H = 1.011\n",
    "\n",
    "### Interpretation:\n",
    "- Species Richness: Basic measure of diversity\n",
    "- Simpson's Index: Emphasizes dominant species\n",
    "- Shannon's Index: Balances rare and common species\n",
    "\n",
    "This theoretical framework helps understand the mathematical principles behind biodiversity measurements before implementing them in Python."
   ]
  },
  {
   "cell_type": "code",
   "execution_count": null,
   "metadata": {
    "id": "8rNTPPX_JFZw"
   },
   "outputs": [],
   "source": [
    "# Your code"
   ]
  },
  {
   "cell_type": "code",
   "execution_count": null,
   "metadata": {
    "id": "Pox2oMlHJFZw",
    "outputId": "69330f9a-1d98-49cc-b682-86be8f108747"
   },
   "outputs": [
    {
     "name": "stdout",
     "output_type": "stream",
     "text": [
      "\n",
      "Biodiversity Analysis:\n",
      "species_richness: 3.000\n",
      "simpson_index: 0.611\n",
      "shannon_index: 1.011\n"
     ]
    }
   ],
   "source": [
    "# Answer\n",
    "import math\n",
    "def calculate_biodiversity_indices(species_counts):\n",
    "    \"\"\"\n",
    "    Calculate biodiversity indices from species count data.\n",
    "\n",
    "    Parameters\n",
    "    ----------\n",
    "    species_counts : dict\n",
    "        Dictionary with species names as keys and counts as values\n",
    "\n",
    "    Returns\n",
    "    -------\n",
    "    dict\n",
    "        Calculated biodiversity indices\n",
    "    \"\"\"\n",
    "    try:\n",
    "        total_individuals = sum(species_counts.values())\n",
    "        species_richness = len(species_counts)\n",
    "\n",
    "        # Simpson's Index\n",
    "        simpson = sum((n/total_individuals)**2 for n in species_counts.values())\n",
    "\n",
    "        # Shannon's Index\n",
    "        shannon = 0\n",
    "        for n in species_counts.values():\n",
    "            p = n/total_individuals\n",
    "            shannon -= p * math.log(p)\n",
    "\n",
    "        return {\n",
    "            \"species_richness\": species_richness,\n",
    "            \"simpson_index\": 1 - simpson,  # Convert to diversity\n",
    "            \"shannon_index\": shannon\n",
    "        }\n",
    "\n",
    "    except ValueError as e:\n",
    "        print(f\"Error in calculations: {e}\")\n",
    "        return None\n",
    "\n",
    "# Example usage\n",
    "species_data = {\n",
    "    \"Species A\": 10,\n",
    "    \"Species B\": 15,\n",
    "    \"Species C\": 5\n",
    "}\n",
    "\n",
    "indices = calculate_biodiversity_indices(species_data)\n",
    "if indices:\n",
    "    print(\"\\nBiodiversity Analysis:\")\n",
    "    for index, value in indices.items():\n",
    "        print(f\"{index}: {value:.3f}\")"
   ]
  }
 ],
 "metadata": {
  "colab": {
   "provenance": []
  },
  "kernelspec": {
   "display_name": "Python 3 (ipykernel)",
   "language": "python",
   "name": "python3"
  },
  "language_info": {
   "codemirror_mode": {
    "name": "ipython",
    "version": 3
   },
   "file_extension": ".py",
   "mimetype": "text/x-python",
   "name": "python",
   "nbconvert_exporter": "python",
   "pygments_lexer": "ipython3",
   "version": "3.9.22"
  }
 },
 "nbformat": 4,
 "nbformat_minor": 4
}
