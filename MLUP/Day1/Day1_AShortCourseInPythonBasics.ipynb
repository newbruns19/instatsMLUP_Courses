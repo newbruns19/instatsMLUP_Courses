{
  "cells": [
    {
      "cell_type": "markdown",
      "metadata": {
        "id": "CQglx6InY-DA"
      },
      "source": [
        "# Day 1: Exercises from the course \"Machine Vision using Python (MVUP01)\"\n",
        "\n",
        "**Sessions**: (1) Python Essentials for Machine Vision; (2) Data Structures and File Handling in Python\n",
        "\n",
        "**Instructor**: Gabriel Rodrigues Palma\n",
        "\n",
        "**Objective**: This day provides participants with the foundational Python skills required for machine vision tasks. This\n",
        "day is designed for beginners or those needing a refresher in Python programming."
      ]
    },
    {
      "cell_type": "markdown",
      "metadata": {
        "id": "js14gV9uZ1CM"
      },
      "source": [
        "# Session 1: Python Essentials for Machine Vision"
      ]
    },
    {
      "cell_type": "markdown",
      "metadata": {
        "id": "uFjBpjSQJFZn"
      },
      "source": [
        "## Python syntax fundamentals"
      ]
    },
    {
      "cell_type": "code",
      "execution_count": 1,
      "metadata": {
        "colab": {
          "base_uri": "https://localhost:8080/"
        },
        "id": "Gf6MxoibJFZn",
        "outputId": "bd562507-d381-4c06-8e0a-5689c0ffb168"
      },
      "outputs": [
        {
          "name": "stdout",
          "output_type": "stream",
          "text": [
            "Species: Panthera onca | Type: <class 'str'>\n",
            "Population: 200 | Type: <class 'int'>\n",
            "Survival Rate: 0.85 | Type: <class 'float'>\n",
            "Endangered Status: True | Type: <class 'bool'>\n"
          ]
        }
      ],
      "source": [
        "# Example 1: Variables and Basic Data Types\n",
        "species_name = \"Panthera onca\"        # String (text)\n",
        "population_size = 200                 # Integer (whole number)\n",
        "survival_rate = 0.85                 # Float (decimal)\n",
        "is_endangered = True                 # Boolean (True/False)\n",
        "\n",
        "print(f\"Species: {species_name} | Type: {type(species_name)}\")\n",
        "print(f\"Population: {population_size} | Type: {type(population_size)}\")\n",
        "print(f\"Survival Rate: {survival_rate} | Type: {type(survival_rate)}\")\n",
        "print(f\"Endangered Status: {is_endangered} | Type: {type(is_endangered)}\")\n",
        "\n"
      ]
    },
    {
      "cell_type": "code",
      "execution_count": null,
      "metadata": {
        "id": "WT6aUDtXJFZn",
        "outputId": "2f651d6d-6768-4b10-9a51-2140c0840893"
      },
      "outputs": [
        {
          "name": "stdout",
          "output_type": "stream",
          "text": [
            "Temperature (C): 25.5 | Type: <class 'float'>\n",
            "Temperature (F): 77.9 | Type: <class 'float'>\n",
            "Humidity (%): 80 | Type: <class 'int'>\n"
          ]
        }
      ],
      "source": [
        "# Example 2: Basic Operations with Environmental Data\n",
        "temperature_c = 25.5\n",
        "humidity = 80\n",
        "temperature_f = temperature_c * 1.8 + 32   # Converting to Fahrenheit\n",
        "\n",
        "print(f\"Temperature (C): {temperature_c} | Type: {type(temperature_c)}\")\n",
        "print(f\"Temperature (F): {temperature_f} | Type: {type(temperature_f)}\")\n",
        "print(f\"Humidity (%): {humidity} | Type: {type(humidity)}\")"
      ]
    },
    {
      "cell_type": "code",
      "execution_count": null,
      "metadata": {
        "id": "2qS1_tmUJFZn",
        "outputId": "9f617ec4-f614-4f1a-e3fc-86154d27cf4c"
      },
      "outputs": [
        {
          "name": "stdout",
          "output_type": "stream",
          "text": [
            "Total biomass of wolves: 40 kg\n"
          ]
        }
      ],
      "source": [
        "# Multiplication: Calculate total biomass\n",
        "individuals = 4\n",
        "average_weight_kg = 10\n",
        "total_biomass = individuals * average_weight_kg\n",
        "print(f\"Total biomass of wolves: {total_biomass} kg\")\n"
      ]
    },
    {
      "cell_type": "code",
      "execution_count": null,
      "metadata": {
        "id": "0K-UAhRVJFZn",
        "outputId": "f9d0fc71-1eda-4896-fbb6-417c45e3d71e"
      },
      "outputs": [
        {
          "name": "stdout",
          "output_type": "stream",
          "text": [
            "Total butterfly population: 16\n"
          ]
        }
      ],
      "source": [
        "# Addition: Combine population counts\n",
        "population_site_A = 7\n",
        "population_site_B = 9\n",
        "total_population = population_site_A + population_site_B\n",
        "print(f\"Total butterfly population: {total_population}\")\n"
      ]
    },
    {
      "cell_type": "code",
      "execution_count": null,
      "metadata": {
        "id": "_jTY6RkmJFZo",
        "outputId": "880f2135-ca7d-4795-f949-b88b9918675e"
      },
      "outputs": [
        {
          "name": "stdout",
          "output_type": "stream",
          "text": [
            "Surviving trees after frost: 19\n"
          ]
        }
      ],
      "source": [
        "# Subtraction: Population decline\n",
        "initial_count = 23\n",
        "mortality = 4\n",
        "surviving_individuals = initial_count - mortality\n",
        "print(f\"Surviving trees after frost: {surviving_individuals}\")"
      ]
    },
    {
      "cell_type": "code",
      "execution_count": null,
      "metadata": {
        "id": "Yjg2vXtjJFZo",
        "outputId": "225cdb2b-3d4a-4616-be8d-348a0f07a5c7"
      },
      "outputs": [
        {
          "name": "stdout",
          "output_type": "stream",
          "text": [
            "Organism density per m²: 9.0\n"
          ]
        }
      ],
      "source": [
        "# Division: Calculate average density\n",
        "total_organisms = 27\n",
        "sample_area = 3\n",
        "density = total_organisms / sample_area\n",
        "print(f\"Organism density per m²: {density}\")"
      ]
    },
    {
      "cell_type": "code",
      "execution_count": null,
      "metadata": {
        "id": "xvOUOzfPJFZo",
        "outputId": "685b362d-256d-4e2b-b7f4-d2d6d74fd6e1"
      },
      "outputs": [
        {
          "name": "stdout",
          "output_type": "stream",
          "text": [
            "Bacterial population after 2 generations: 9\n"
          ]
        }
      ],
      "source": [
        "# Power: Population growth\n",
        "initial_size = 3\n",
        "generations = 2\n",
        "final_population = initial_size ** generations\n",
        "print(f\"Bacterial population after {generations} generations: {final_population}\")"
      ]
    },
    {
      "cell_type": "code",
      "execution_count": null,
      "metadata": {
        "id": "5W2DjRFRJFZo",
        "outputId": "b6bdc8e2-6f9d-4a7f-cc78-fdd5b8f6b027"
      },
      "outputs": [
        {
          "name": "stdout",
          "output_type": "stream",
          "text": [
            "Nucleotide position (0=A, 1=T, 2=C, 3=G): 3\n"
          ]
        }
      ],
      "source": [
        "# Modulo: DNA sequence analysis\n",
        "base_pairs = 7\n",
        "nucleotides = 4  # A, T, C, G\n",
        "current_base = base_pairs % nucleotides\n",
        "print(f\"Nucleotide position (0=A, 1=T, 2=C, 3=G): {current_base}\")"
      ]
    },
    {
      "cell_type": "code",
      "execution_count": null,
      "metadata": {
        "id": "dHXWiulzJFZo",
        "outputId": "b36baa6a-a68d-45ad-cdc2-03c3d291a374"
      },
      "outputs": [
        {
          "name": "stdout",
          "output_type": "stream",
          "text": [
            "Genus: Quercus | Type: <class 'str'>\n",
            "Species: alba | Type: <class 'str'>\n",
            "Scientific name: Quercus alba | Type: <class 'str'>\n",
            "Uppercase: QUERCUS ALBA | Type: <class 'str'>\n"
          ]
        }
      ],
      "source": [
        "# Example 3: String Manipulation for Species Data\n",
        "genus = \"Quercus\"\n",
        "species = \"alba\"\n",
        "scientific_name = genus + \" \" + species  # String concatenation\n",
        "\n",
        "print(f\"Genus: {genus} | Type: {type(genus)}\")\n",
        "print(f\"Species: {species} | Type: {type(species)}\")\n",
        "print(f\"Scientific name: {scientific_name} | Type: {type(scientific_name)}\")\n",
        "print(f\"Uppercase: {scientific_name.upper()} | Type: {type(scientific_name.upper())}\")"
      ]
    },
    {
      "cell_type": "code",
      "execution_count": null,
      "metadata": {
        "id": "XJ8JKtloJFZo",
        "outputId": "19952aa9-2ae8-4aac-96fa-eafddedc100c"
      },
      "outputs": [
        {
          "name": "stdout",
          "output_type": "stream",
          "text": [
            "Species list: ['Wolf', 'Bear', 'Eagle', 'Deer'] | Type: <class 'list'>\n",
            "First species: Wolf | Type: <class 'str'>\n",
            "Population counts: [100, 50, 75, 500] | Type: <class 'list'>\n",
            "First count: 100 | Type: <class 'int'>\n"
          ]
        }
      ],
      "source": [
        "# Example 4: Lists for Biodiversity Data\n",
        "species_list = [\"Wolf\", \"Bear\", \"Eagle\", \"Deer\"]\n",
        "population_counts = [100, 50, 75, 500]\n",
        "\n",
        "print(f\"Species list: {species_list} | Type: {type(species_list)}\")\n",
        "print(f\"First species: {species_list[0]} | Type: {type(species_list[0])}\")\n",
        "print(f\"Population counts: {population_counts} | Type: {type(population_counts)}\")\n",
        "print(f\"First count: {population_counts[0]} | Type: {type(population_counts[0])}\")"
      ]
    },
    {
      "cell_type": "code",
      "execution_count": null,
      "metadata": {
        "id": "EQPrKgxgJFZo",
        "outputId": "c09c5c8c-830f-496e-9281-742141dac08f"
      },
      "outputs": [
        {
          "name": "stdout",
          "output_type": "stream",
          "text": [
            "Enter plot number:  123\n",
            "Enter number of observations:  213\n"
          ]
        },
        {
          "name": "stdout",
          "output_type": "stream",
          "text": [
            "Plot number: 123 | Type: <class 'str'>\n",
            "Observations: 213 | Type: <class 'str'>\n",
            "Converted observations: 213 | Type: <class 'int'>\n"
          ]
        }
      ],
      "source": [
        "# Example 5: Basic Input/Output for Field Data\n",
        "plot_number = input(\"Enter plot number: \")\n",
        "observations = input(\"Enter number of observations: \")\n",
        "\n",
        "print(f\"Plot number: {plot_number} | Type: {type(plot_number)}\")\n",
        "print(f\"Observations: {observations} | Type: {type(observations)}\")\n",
        "\n",
        "# Convert string input to integer for calculations\n",
        "observations_count = int(observations)\n",
        "print(f\"Converted observations: {observations_count} | Type: {type(observations_count)}\")"
      ]
    },
    {
      "cell_type": "markdown",
      "metadata": {
        "id": "VqBPXtT1JFZo"
      },
      "source": [
        "## If/Elif/else structures"
      ]
    },
    {
      "cell_type": "code",
      "execution_count": null,
      "metadata": {
        "id": "vsmeqAPIJFZo",
        "outputId": "0049bc89-0dfd-4277-cdbd-ad18e59ee650"
      },
      "outputs": [
        {
          "name": "stdout",
          "output_type": "stream",
          "text": [
            "Insect Classification: Order Diptera (Flies and Mosquitoes)\n"
          ]
        }
      ],
      "source": [
        "# Input variables\n",
        "wings = 2\n",
        "body_segments = 3\n",
        "mouthparts = \"proboscis\"\n",
        "\n",
        "# Classification logic\n",
        "if wings == 2 and body_segments == 3 and mouthparts == \"proboscis\":\n",
        "    classification = \"Order Diptera (Flies and Mosquitoes)\"\n",
        "elif wings == 4 and body_segments == 3:\n",
        "    classification = \"Order Lepidoptera (Butterflies and Moths)\"\n",
        "elif wings == 4 and mouthparts == \"mandibles\":\n",
        "    classification = \"Order Coleoptera (Beetles)\"\n",
        "else:\n",
        "    classification = \"Other Order - Further identification needed\"\n",
        "\n",
        "print(f\"Insect Classification: {classification}\")\n"
      ]
    },
    {
      "cell_type": "code",
      "execution_count": null,
      "metadata": {
        "id": "y6t1nBVUJFZo",
        "outputId": "0e789018-a5fc-4e9a-9523-3e3f978bf14a"
      },
      "outputs": [
        {
          "name": "stdout",
          "output_type": "stream",
          "text": [
            "Habitat Type: Mountain scrubland\n"
          ]
        }
      ],
      "source": [
        "# Input variables\n",
        "rainfall = 800    # mm per year\n",
        "elevation = 1500  # meters\n",
        "\n",
        "if rainfall < 250:\n",
        "    habitat = \"Desert ecosystem\"\n",
        "elif rainfall < 1000 and elevation > 1000:\n",
        "    habitat = \"Mountain scrubland\"\n",
        "elif rainfall < 2000:\n",
        "    habitat = \"Savanna\"\n",
        "else:\n",
        "    habitat = \"Tropical rainforest\"\n",
        "\n",
        "print(f\"Habitat Type: {habitat}\")\n"
      ]
    },
    {
      "cell_type": "code",
      "execution_count": null,
      "metadata": {
        "id": "5pp_o4fpJFZo",
        "outputId": "2c39dab9-aa33-41a4-cbc9-347307d41ef5"
      },
      "outputs": [
        {
          "name": "stdout",
          "output_type": "stream",
          "text": [
            "Conservation Status: Endangered\n"
          ]
        }
      ],
      "source": [
        "# Input variables\n",
        "population_size = 200\n",
        "decline_rate = 55  # percentage\n",
        "\n",
        "if population_size < 50 or decline_rate > 70:\n",
        "    status = \"Critically Endangered\"\n",
        "elif population_size < 250 or decline_rate > 50:\n",
        "    status = \"Endangered\"\n",
        "elif population_size < 1000 or decline_rate > 30:\n",
        "    status = \"Vulnerable\"\n",
        "else:\n",
        "    status = \"Least Concern\"\n",
        "\n",
        "print(f\"Conservation Status: {status}\")\n"
      ]
    },
    {
      "cell_type": "code",
      "execution_count": null,
      "metadata": {
        "id": "9J7Bt3zsJFZo",
        "outputId": "8c601cb1-563d-4d06-e850-072be5a11637"
      },
      "outputs": [
        {
          "name": "stdout",
          "output_type": "stream",
          "text": [
            "Plant Growth Stage: Seedling stage\n"
          ]
        }
      ],
      "source": [
        "# Input variables\n",
        "leaf_count = 2\n",
        "height_cm = 15\n",
        "\n",
        "if leaf_count == 0:\n",
        "    growth_stage = \"Germination stage\"\n",
        "elif leaf_count < 3:\n",
        "    growth_stage = \"Seedling stage\"\n",
        "elif height_cm < 30:\n",
        "    growth_stage = \"Vegetative stage\"\n",
        "elif height_cm >= 30:\n",
        "    growth_stage = \"Mature stage\"\n",
        "else:\n",
        "    growth_stage = \"Unknown stage\"\n",
        "\n",
        "print(f\"Plant Growth Stage: {growth_stage}\")\n"
      ]
    },
    {
      "cell_type": "code",
      "execution_count": null,
      "metadata": {
        "id": "NQWl2SC9JFZp",
        "outputId": "87f2a60c-a208-4492-b0ea-24e6cd2cddf5"
      },
      "outputs": [
        {
          "name": "stdout",
          "output_type": "stream",
          "text": [
            "Soil Assessment: Acidic soil - lime amendment needed\n"
          ]
        }
      ],
      "source": [
        "# Input variables\n",
        "ph_level = 5.2\n",
        "organic_matter = 4  # percentage\n",
        "\n",
        "if ph_level < 5.5:\n",
        "    soil_status = \"Acidic soil - lime amendment needed\"\n",
        "elif ph_level > 7.5:\n",
        "    soil_status = \"Alkaline soil - sulfur amendment needed\"\n",
        "elif organic_matter < 3:\n",
        "    soil_status = \"Low organic matter - compost needed\"\n",
        "else:\n",
        "    soil_status = \"Healthy soil conditions\"\n",
        "\n",
        "print(f\"Soil Assessment: {soil_status}\")"
      ]
    },
    {
      "cell_type": "markdown",
      "metadata": {
        "id": "s5XWXU9KJFZp"
      },
      "source": [
        "## Comparison operators"
      ]
    },
    {
      "cell_type": "code",
      "execution_count": null,
      "metadata": {
        "id": "n_dN_noFJFZq",
        "outputId": "09a0cc99-439f-4ad5-bd82-2f586e0b2c6c"
      },
      "outputs": [
        {
          "name": "stdout",
          "output_type": "stream",
          "text": [
            "Water Quality Analysis Results:\n",
            "GOOD: Optimal oxygen levels for most aquatic species\n",
            "GOOD: Temperature within acceptable range\n",
            "GOOD: pH within optimal range\n"
          ]
        }
      ],
      "source": [
        "# Input variables\n",
        "dissolved_oxygen = 6.5      # mg/L\n",
        "temperature = 25.0         # Celsius\n",
        "ph = 7.2\n",
        "\n",
        "print(\"Water Quality Analysis Results:\")\n",
        "\n",
        "# Dissolved Oxygen checks\n",
        "if dissolved_oxygen < 5.0:\n",
        "    print(\"WARNING: Low oxygen levels - stressful for aquatic life\")\n",
        "elif dissolved_oxygen >= 5.0 and dissolved_oxygen <= 8.0:\n",
        "    print(\"GOOD: Optimal oxygen levels for most aquatic species\")\n",
        "else:\n",
        "    print(\"NOTE: High oxygen levels - possible algal activity\")\n",
        "\n",
        "# Temperature checks\n",
        "if temperature > 30.0:\n",
        "    print(\"WARNING: Water too warm for most species\")\n",
        "elif temperature < 10.0:\n",
        "    print(\"WARNING: Water too cold for most tropical species\")\n",
        "else:\n",
        "    print(\"GOOD: Temperature within acceptable range\")\n",
        "\n",
        "# pH checks\n",
        "if ph < 6.5:\n",
        "    print(\"WARNING: Water too acidic\")\n",
        "elif ph > 8.5:\n",
        "    print(\"WARNING: Water too alkaline\")\n",
        "else:\n",
        "    print(\"GOOD: pH within optimal range\")\n"
      ]
    },
    {
      "cell_type": "code",
      "execution_count": null,
      "metadata": {
        "id": "-T5wxLsKJFZr",
        "outputId": "615cf21c-b94d-414b-e904-8bdd69f7b36c"
      },
      "outputs": [
        {
          "name": "stdout",
          "output_type": "stream",
          "text": [
            "Habitat Suitability Analysis for Mountain Gorillas:\n",
            "GOOD: Elevation and rainfall within suitable range\n"
          ]
        }
      ],
      "source": [
        "# Input variables\n",
        "elevation = 1200        # meters\n",
        "rainfall = 800         # mm/year\n",
        "soil_ph = 6.5\n",
        "canopy_cover = 75      # percentage\n",
        "human_presence = True\n",
        "\n",
        "print(\"Habitat Suitability Analysis for Mountain Gorillas:\")\n",
        "\n",
        "# Combining multiple conditions with logical operators\n",
        "if (elevation >= 1000 and elevation <= 3500) and \\\n",
        "   (rainfall > 500 and rainfall < 2000):\n",
        "    print(\"GOOD: Elevation and rainfall within suitable range\")\n",
        "else:\n",
        "    print(\"WARNING: Location outside preferred elevation or rainfall range\")\n"
      ]
    },
    {
      "cell_type": "markdown",
      "metadata": {
        "id": "3xryAgywJFZr"
      },
      "source": [
        "## For loop implementation"
      ]
    },
    {
      "cell_type": "code",
      "execution_count": null,
      "metadata": {
        "id": "cT-xqsOTJFZr",
        "outputId": "0ab1f1d3-189a-4dca-efd4-a83970c2e0c1"
      },
      "outputs": [
        {
          "name": "stdout",
          "output_type": "stream",
          "text": [
            "Field Survey Data Collection:\n",
            "\n",
            "Site 1 Analysis:\n",
            "Temperature: 21°C - Within optimal range\n",
            "Humidity: 58% - Within optimal range\n",
            "\n",
            "Site 2 Analysis:\n",
            "Temperature: 22°C - Within optimal range\n",
            "Humidity: 56% - Within optimal range\n"
          ]
        }
      ],
      "source": [
        "# Number of sampling sites\n",
        "total_sites = 2\n",
        "\n",
        "print(\"Field Survey Data Collection:\")\n",
        "for site in range(1, total_sites + 1):\n",
        "    print(f\"\\nSite {site} Analysis:\")\n",
        "\n",
        "    # Simulate measurements for each site\n",
        "    temperature = 20 + site  # Temperature increases with each site\n",
        "    humidity = 60 - (site * 2)  # Humidity decreases with each site\n",
        "\n",
        "    # Analyze conditions for each site\n",
        "    if temperature > 23:\n",
        "        print(f\"Temperature: {temperature}°C - Above optimal range\")\n",
        "    else:\n",
        "        print(f\"Temperature: {temperature}°C - Within optimal range\")\n",
        "\n",
        "    if humidity < 55:\n",
        "        print(f\"Humidity: {humidity}% - Below optimal range\")\n",
        "    else:\n",
        "        print(f\"Humidity: {humidity}% - Within optimal range\")\n"
      ]
    },
    {
      "cell_type": "code",
      "execution_count": null,
      "metadata": {
        "id": "IpfDiqyrJFZr",
        "outputId": "febd4f90-d524-45ce-8a51-5560cef4c5c8"
      },
      "outputs": [
        {
          "name": "stdout",
          "output_type": "stream",
          "text": [
            "Field Survey Data Collection:\n",
            "\n",
            "Site 1 Analysis:\n",
            "Temperature: 21°C - Within optimal range\n",
            "Humidity: 58% - Within optimal range\n",
            "\n",
            "Site 2 Analysis:\n",
            "Temperature: 22°C - Within optimal range\n",
            "Humidity: 56% - Within optimal range\n"
          ]
        }
      ],
      "source": [
        "# Number of sampling sites\n",
        "total_sites = 2\n",
        "current_site = 1\n",
        "\n",
        "print(\"Field Survey Data Collection:\")\n",
        "while current_site <= total_sites:\n",
        "    print(f\"\\nSite {current_site} Analysis:\")\n",
        "\n",
        "    # Simulate measurements for each site\n",
        "    temperature = 20 + current_site  # Temperature increases with each site\n",
        "    humidity = 60 - (current_site * 2)  # Humidity decreases with each site\n",
        "\n",
        "    # Analyze conditions for each site\n",
        "    if temperature > 23:\n",
        "        print(f\"Temperature: {temperature}°C - Above optimal range\")\n",
        "    else:\n",
        "        print(f\"Temperature: {temperature}°C - Within optimal range\")\n",
        "\n",
        "    if humidity < 55:\n",
        "        print(f\"Humidity: {humidity}% - Below optimal range\")\n",
        "    else:\n",
        "        print(f\"Humidity: {humidity}% - Within optimal range\")\n",
        "\n",
        "    current_site += 1\n"
      ]
    },
    {
      "cell_type": "code",
      "execution_count": null,
      "metadata": {
        "id": "wk-M6ii7JFZr",
        "outputId": "8764d253-b7cb-421d-c9ba-98811f6ef78e"
      },
      "outputs": [
        {
          "name": "stdout",
          "output_type": "stream",
          "text": [
            "Temperature Monitoring:\n",
            "\n",
            "Day 1:\n",
            "Temperature: 32°C\n",
            "\n",
            "Day 2:\n",
            "Temperature: 34°C\n",
            "Equipment maintenance - no recording\n",
            "\n",
            "Day 3:\n",
            "Temperature: 36°C\n",
            "WARNING: Temperature threshold exceeded!\n",
            "\n",
            "Monitoring ended on day 3\n"
          ]
        }
      ],
      "source": [
        "# Monitor daily temperature readings\n",
        "max_temp = 35  # Maximum temperature threshold in Celsius\n",
        "day = 1\n",
        "\n",
        "print(\"Temperature Monitoring:\")\n",
        "while day <= 3:  # Five days monitoring\n",
        "    # Simulate daily temperature\n",
        "    temperature = 30 + (day * 2)  # Temperature increases each day\n",
        "\n",
        "    print(f\"\\nDay {day}:\")\n",
        "    print(f\"Temperature: {temperature}°C\")\n",
        "\n",
        "    # Skip recording if equipment maintenance (day 3)\n",
        "    if day == 2:\n",
        "        print(\"Equipment maintenance - no recording\")\n",
        "        day += 1\n",
        "        continue\n",
        "\n",
        "    # Check if temperature exceeds threshold\n",
        "    if temperature > max_temp:\n",
        "        print(\"WARNING: Temperature threshold exceeded!\")\n",
        "        break\n",
        "\n",
        "    day += 1\n",
        "\n",
        "print(f\"\\nMonitoring ended on day {day}\")"
      ]
    }
  ],
  "metadata": {
    "colab": {
      "provenance": []
    },
    "kernelspec": {
      "display_name": "Python 3 (ipykernel)",
      "language": "python",
      "name": "python3"
    },
    "language_info": {
      "codemirror_mode": {
        "name": "ipython",
        "version": 3
      },
      "file_extension": ".py",
      "mimetype": "text/x-python",
      "name": "python",
      "nbconvert_exporter": "python",
      "pygments_lexer": "ipython3",
      "version": "3.13.1"
    }
  },
  "nbformat": 4,
  "nbformat_minor": 0
}
